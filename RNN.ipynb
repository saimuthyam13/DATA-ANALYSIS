{
  "nbformat": 4,
  "nbformat_minor": 0,
  "metadata": {
    "colab": {
      "provenance": []
    },
    "kernelspec": {
      "name": "python3",
      "display_name": "Python 3"
    },
    "language_info": {
      "name": "python"
    }
  },
  "cells": [
    {
      "cell_type": "code",
      "execution_count": 7,
      "metadata": {
        "id": "aOOpgRzCSiJW"
      },
      "outputs": [],
      "source": [
        "import numpy as np\n",
        "from keras.models import Sequential\n",
        "from keras.layers import SimpleRNN, Dense, Embedding\n",
        "from keras.preprocessing.text import Tokenizer\n",
        "from keras.preprocessing.sequence import pad_sequences\n",
        "from keras.utils import to_categorical"
      ]
    },
    {
      "cell_type": "code",
      "source": [
        "# Generating some example sequential data\n",
        "sentences = ['I love learning','I love python','I hate school',\n",
        "             'Recurrent Neural Networks are powerful']\n",
        "# Tokenizing the words\n",
        "tokenizer = Tokenizer()\n",
        "tokenizer.fit_on_texts(sentences)\n",
        "total_words = len(tokenizer.word_index) + 1"
      ],
      "metadata": {
        "id": "wCoSuCSlSu3Q"
      },
      "execution_count": 8,
      "outputs": []
    },
    {
      "cell_type": "code",
      "source": [
        "# Creating input sequences and their corresponding next words\n",
        "input_sequences = []\n",
        "for sentence in sentences:\n",
        "    tokenized_sentence = tokenizer.texts_to_sequences([sentence])[0]\n",
        "    for i in range(1, len(tokenized_sentence)):\n",
        "        n_gram_sequence = tokenized_sentence[:i+1]\n",
        "        input_sequences.append(n_gram_sequence)"
      ],
      "metadata": {
        "id": "JubzZtvzSyW7"
      },
      "execution_count": 10,
      "outputs": []
    },
    {
      "cell_type": "code",
      "source": [
        "# Padding sequences for consistent input size\n",
        "max_sequence_length = max([len(seq) for seq in input_sequences])\n",
        "input_sequences = pad_sequences(input_sequences, maxlen=max_sequence_length, padding='pre')\n",
        "\n",
        "# Creating input and output data\n",
        "X, y = input_sequences[:, :-1], input_sequences[:, -1]\n",
        "y = to_categorical(y, num_classes=total_words)\n"
      ],
      "metadata": {
        "id": "SoQvxKgTS2_B"
      },
      "execution_count": 11,
      "outputs": []
    },
    {
      "cell_type": "code",
      "source": [
        "# Building a simple RNN model\n",
        "model = Sequential()\n",
        "model.add(Embedding(input_dim=total_words, output_dim=50, input_length=max_sequence_length-1))\n",
        "model.add(SimpleRNN(100, return_sequences=True))\n",
        "model.add(SimpleRNN(100))\n",
        "model.add(Dense(total_words, activation='softmax'))"
      ],
      "metadata": {
        "id": "vHSWnUtHS7LN"
      },
      "execution_count": 12,
      "outputs": []
    },
    {
      "cell_type": "code",
      "source": [
        "# Compiling the model\n",
        "model.compile(optimizer='adam', loss='categorical_crossentropy', metrics=['accuracy'])\n",
        "\n",
        "# Training the model\n",
        "model.fit(X, y, epochs=50, verbose=2)"
      ],
      "metadata": {
        "colab": {
          "base_uri": "https://localhost:8080/"
        },
        "id": "r7q8nur1TAbs",
        "outputId": "6d2c5677-faeb-4124-e4e4-f696dc5cb09b"
      },
      "execution_count": 13,
      "outputs": [
        {
          "output_type": "stream",
          "name": "stdout",
          "text": [
            "Epoch 1/50\n",
            "1/1 - 3s - loss: 2.4833 - accuracy: 0.2000 - 3s/epoch - 3s/step\n",
            "Epoch 2/50\n",
            "1/1 - 0s - loss: 2.3979 - accuracy: 0.3000 - 12ms/epoch - 12ms/step\n",
            "Epoch 3/50\n",
            "1/1 - 0s - loss: 2.3155 - accuracy: 0.4000 - 12ms/epoch - 12ms/step\n",
            "Epoch 4/50\n",
            "1/1 - 0s - loss: 2.2337 - accuracy: 0.4000 - 14ms/epoch - 14ms/step\n",
            "Epoch 5/50\n",
            "1/1 - 0s - loss: 2.1517 - accuracy: 0.4000 - 15ms/epoch - 15ms/step\n",
            "Epoch 6/50\n",
            "1/1 - 0s - loss: 2.0697 - accuracy: 0.4000 - 16ms/epoch - 16ms/step\n",
            "Epoch 7/50\n",
            "1/1 - 0s - loss: 1.9882 - accuracy: 0.4000 - 13ms/epoch - 13ms/step\n",
            "Epoch 8/50\n",
            "1/1 - 0s - loss: 1.9069 - accuracy: 0.4000 - 12ms/epoch - 12ms/step\n",
            "Epoch 9/50\n",
            "1/1 - 0s - loss: 1.8243 - accuracy: 0.4000 - 12ms/epoch - 12ms/step\n",
            "Epoch 10/50\n",
            "1/1 - 0s - loss: 1.7399 - accuracy: 0.4000 - 12ms/epoch - 12ms/step\n",
            "Epoch 11/50\n",
            "1/1 - 0s - loss: 1.6559 - accuracy: 0.4000 - 13ms/epoch - 13ms/step\n",
            "Epoch 12/50\n",
            "1/1 - 0s - loss: 1.5763 - accuracy: 0.4000 - 13ms/epoch - 13ms/step\n",
            "Epoch 13/50\n",
            "1/1 - 0s - loss: 1.5051 - accuracy: 0.5000 - 12ms/epoch - 12ms/step\n",
            "Epoch 14/50\n",
            "1/1 - 0s - loss: 1.4426 - accuracy: 0.7000 - 12ms/epoch - 12ms/step\n",
            "Epoch 15/50\n",
            "1/1 - 0s - loss: 1.3861 - accuracy: 0.7000 - 12ms/epoch - 12ms/step\n",
            "Epoch 16/50\n",
            "1/1 - 0s - loss: 1.3327 - accuracy: 0.7000 - 13ms/epoch - 13ms/step\n",
            "Epoch 17/50\n",
            "1/1 - 0s - loss: 1.2819 - accuracy: 0.7000 - 12ms/epoch - 12ms/step\n",
            "Epoch 18/50\n",
            "1/1 - 0s - loss: 1.2355 - accuracy: 0.7000 - 13ms/epoch - 13ms/step\n",
            "Epoch 19/50\n",
            "1/1 - 0s - loss: 1.1941 - accuracy: 0.7000 - 13ms/epoch - 13ms/step\n",
            "Epoch 20/50\n",
            "1/1 - 0s - loss: 1.1551 - accuracy: 0.7000 - 12ms/epoch - 12ms/step\n",
            "Epoch 21/50\n",
            "1/1 - 0s - loss: 1.1151 - accuracy: 0.7000 - 18ms/epoch - 18ms/step\n",
            "Epoch 22/50\n",
            "1/1 - 0s - loss: 1.0739 - accuracy: 0.7000 - 15ms/epoch - 15ms/step\n",
            "Epoch 23/50\n",
            "1/1 - 0s - loss: 1.0338 - accuracy: 0.7000 - 15ms/epoch - 15ms/step\n",
            "Epoch 24/50\n",
            "1/1 - 0s - loss: 0.9956 - accuracy: 0.7000 - 12ms/epoch - 12ms/step\n",
            "Epoch 25/50\n",
            "1/1 - 0s - loss: 0.9575 - accuracy: 0.7000 - 14ms/epoch - 14ms/step\n",
            "Epoch 26/50\n",
            "1/1 - 0s - loss: 0.9188 - accuracy: 0.7000 - 14ms/epoch - 14ms/step\n",
            "Epoch 27/50\n",
            "1/1 - 0s - loss: 0.8809 - accuracy: 0.7000 - 12ms/epoch - 12ms/step\n",
            "Epoch 28/50\n",
            "1/1 - 0s - loss: 0.8453 - accuracy: 0.7000 - 12ms/epoch - 12ms/step\n",
            "Epoch 29/50\n",
            "1/1 - 0s - loss: 0.8122 - accuracy: 0.7000 - 12ms/epoch - 12ms/step\n",
            "Epoch 30/50\n",
            "1/1 - 0s - loss: 0.7804 - accuracy: 0.7000 - 13ms/epoch - 13ms/step\n",
            "Epoch 31/50\n",
            "1/1 - 0s - loss: 0.7505 - accuracy: 0.7000 - 12ms/epoch - 12ms/step\n",
            "Epoch 32/50\n",
            "1/1 - 0s - loss: 0.7231 - accuracy: 0.8000 - 13ms/epoch - 13ms/step\n",
            "Epoch 33/50\n",
            "1/1 - 0s - loss: 0.6982 - accuracy: 0.8000 - 16ms/epoch - 16ms/step\n",
            "Epoch 34/50\n",
            "1/1 - 0s - loss: 0.6749 - accuracy: 0.8000 - 18ms/epoch - 18ms/step\n",
            "Epoch 35/50\n",
            "1/1 - 0s - loss: 0.6528 - accuracy: 0.8000 - 13ms/epoch - 13ms/step\n",
            "Epoch 36/50\n",
            "1/1 - 0s - loss: 0.6319 - accuracy: 0.8000 - 13ms/epoch - 13ms/step\n",
            "Epoch 37/50\n",
            "1/1 - 0s - loss: 0.6127 - accuracy: 0.8000 - 13ms/epoch - 13ms/step\n",
            "Epoch 38/50\n",
            "1/1 - 0s - loss: 0.5946 - accuracy: 0.8000 - 14ms/epoch - 14ms/step\n",
            "Epoch 39/50\n",
            "1/1 - 0s - loss: 0.5772 - accuracy: 0.8000 - 15ms/epoch - 15ms/step\n",
            "Epoch 40/50\n",
            "1/1 - 0s - loss: 0.5603 - accuracy: 0.8000 - 13ms/epoch - 13ms/step\n",
            "Epoch 41/50\n",
            "1/1 - 0s - loss: 0.5443 - accuracy: 0.8000 - 14ms/epoch - 14ms/step\n",
            "Epoch 42/50\n",
            "1/1 - 0s - loss: 0.5290 - accuracy: 0.8000 - 15ms/epoch - 15ms/step\n",
            "Epoch 43/50\n",
            "1/1 - 0s - loss: 0.5144 - accuracy: 0.8000 - 16ms/epoch - 16ms/step\n",
            "Epoch 44/50\n",
            "1/1 - 0s - loss: 0.5004 - accuracy: 0.8000 - 12ms/epoch - 12ms/step\n",
            "Epoch 45/50\n",
            "1/1 - 0s - loss: 0.4869 - accuracy: 0.8000 - 12ms/epoch - 12ms/step\n",
            "Epoch 46/50\n",
            "1/1 - 0s - loss: 0.4743 - accuracy: 0.8000 - 11ms/epoch - 11ms/step\n",
            "Epoch 47/50\n",
            "1/1 - 0s - loss: 0.4623 - accuracy: 0.8000 - 15ms/epoch - 15ms/step\n",
            "Epoch 48/50\n",
            "1/1 - 0s - loss: 0.4512 - accuracy: 0.8000 - 15ms/epoch - 15ms/step\n",
            "Epoch 49/50\n",
            "1/1 - 0s - loss: 0.4406 - accuracy: 0.8000 - 17ms/epoch - 17ms/step\n",
            "Epoch 50/50\n",
            "1/1 - 0s - loss: 0.4307 - accuracy: 0.8000 - 21ms/epoch - 21ms/step\n"
          ]
        },
        {
          "output_type": "execute_result",
          "data": {
            "text/plain": [
              "<keras.src.callbacks.History at 0x7da2780a1630>"
            ]
          },
          "metadata": {},
          "execution_count": 13
        }
      ]
    },
    {
      "cell_type": "code",
      "source": [
        "# Generating text using the trained model\n",
        "seed_text = input(\"Enter the starting word: \")\n",
        "next_words = int(input(\"Enter how many words to predict: \"))\n",
        "\n",
        "for _ in range(next_words):\n",
        "    tokenized_seed = tokenizer.texts_to_sequences([seed_text])[0]\n",
        "    tokenized_seed = pad_sequences([tokenized_seed], maxlen=max_sequence_length-1, padding='pre')\n",
        "    predicted_word_index = np.argmax(model.predict(tokenized_seed), axis=-1)\n",
        "    predicted_word = tokenizer.index_word[predicted_word_index[0]]\n",
        "    seed_text += \" \" + predicted_word\n",
        "\n",
        "print(seed_text)"
      ],
      "metadata": {
        "colab": {
          "base_uri": "https://localhost:8080/"
        },
        "id": "IhniS1vdTb-y",
        "outputId": "01f3e503-a15e-4624-89b6-d22d41d76993"
      },
      "execution_count": 14,
      "outputs": [
        {
          "output_type": "stream",
          "name": "stdout",
          "text": [
            "Enter the starting word: i love\n",
            "Enter how many words to predict: 5\n",
            "1/1 [==============================] - 0s 489ms/step\n",
            "1/1 [==============================] - 0s 36ms/step\n",
            "1/1 [==============================] - 0s 34ms/step\n",
            "1/1 [==============================] - 0s 36ms/step\n",
            "1/1 [==============================] - 0s 37ms/step\n",
            "i love python are are powerful powerful\n"
          ]
        }
      ]
    }
  ]
}